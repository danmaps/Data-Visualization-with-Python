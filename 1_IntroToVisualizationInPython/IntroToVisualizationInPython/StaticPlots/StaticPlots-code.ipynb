{
 "cells": [
  {
   "cell_type": "code",
   "execution_count": 1,
   "id": "c5fbb3ca",
   "metadata": {},
   "outputs": [],
   "source": [
    "#######################################################\n",
    "#######################################################\n",
    "############    COPYRIGHT - DATA SOCIETY   ############\n",
    "#######################################################\n",
    "#######################################################\n",
    "\n",
    "## Intro To Visualization In Python: Static Plots - 1 ##\n",
    "\n",
    "## NOTE: To run individual pieces of code, select the line of code and\n",
    "##       press ctrl + enter for PCs or command + enter for Macs"
   ]
  },
  {
   "cell_type": "code",
   "execution_count": 2,
   "id": "b83f2f61",
   "metadata": {
    "tags": []
   },
   "outputs": [],
   "source": [
    "# =================================================-\n",
    "#### Slide 3/32: Loading packages  ####\n",
    "\n",
    "import pandas as pd\n",
    "import numpy as np\n",
    "from pathlib import Path"
   ]
  },
  {
   "cell_type": "code",
   "execution_count": 3,
   "id": "a4115a31-cc7c-424b-93d1-f9070624e83b",
   "metadata": {},
   "outputs": [
    {
     "ename": "FileNotFoundError",
     "evalue": "[Errno 2] No such file or directory: 'diabetes.csv'",
     "output_type": "error",
     "traceback": [
      "\u001b[1;31m---------------------------------------------------------------------------\u001b[0m",
      "\u001b[1;31mFileNotFoundError\u001b[0m                         Traceback (most recent call last)",
      "\u001b[1;32m~\\AppData\\Local\\Temp\\ipykernel_31344\\1495432487.py\u001b[0m in \u001b[0;36m<cell line: 5>\u001b[1;34m()\u001b[0m\n\u001b[0;32m      3\u001b[0m \u001b[1;32mimport\u001b[0m \u001b[0mmatplotlib\u001b[0m\u001b[1;33m.\u001b[0m\u001b[0mpyplot\u001b[0m \u001b[1;32mas\u001b[0m \u001b[0mplt\u001b[0m\u001b[1;33m\u001b[0m\u001b[1;33m\u001b[0m\u001b[0m\n\u001b[0;32m      4\u001b[0m \u001b[1;33m\u001b[0m\u001b[0m\n\u001b[1;32m----> 5\u001b[1;33m \u001b[0mdf\u001b[0m \u001b[1;33m=\u001b[0m \u001b[0mpd\u001b[0m\u001b[1;33m.\u001b[0m\u001b[0mread_csv\u001b[0m\u001b[1;33m(\u001b[0m\u001b[1;34m\"diabetes.csv\"\u001b[0m\u001b[1;33m)\u001b[0m\u001b[1;33m\u001b[0m\u001b[1;33m\u001b[0m\u001b[0m\n\u001b[0m\u001b[0;32m      6\u001b[0m \u001b[0mdf_subset\u001b[0m \u001b[1;33m=\u001b[0m \u001b[0mdf\u001b[0m\u001b[1;33m.\u001b[0m\u001b[0mset_index\u001b[0m\u001b[1;33m(\u001b[0m\u001b[1;34m\"id\"\u001b[0m\u001b[1;33m)\u001b[0m\u001b[1;33m\u001b[0m\u001b[1;33m\u001b[0m\u001b[0m\n\u001b[0;32m      7\u001b[0m \u001b[0mdf_subset\u001b[0m\u001b[1;33m.\u001b[0m\u001b[0mhead\u001b[0m\u001b[1;33m(\u001b[0m\u001b[1;33m)\u001b[0m\u001b[1;33m\u001b[0m\u001b[1;33m\u001b[0m\u001b[0m\n",
      "\u001b[1;32mC:\\Program Files\\ArcGIS\\Pro\\bin\\Python\\envs\\arcgispro-py3\\lib\\site-packages\\pandas\\io\\parsers\\readers.py\u001b[0m in \u001b[0;36mread_csv\u001b[1;34m(filepath_or_buffer, sep, delimiter, header, names, index_col, usecols, dtype, engine, converters, true_values, false_values, skipinitialspace, skiprows, skipfooter, nrows, na_values, keep_default_na, na_filter, verbose, skip_blank_lines, parse_dates, infer_datetime_format, keep_date_col, date_parser, date_format, dayfirst, cache_dates, iterator, chunksize, compression, thousands, decimal, lineterminator, quotechar, quoting, doublequote, escapechar, comment, encoding, encoding_errors, dialect, on_bad_lines, delim_whitespace, low_memory, memory_map, float_precision, storage_options, dtype_backend)\u001b[0m\n\u001b[0;32m    910\u001b[0m     \u001b[0mkwds\u001b[0m\u001b[1;33m.\u001b[0m\u001b[0mupdate\u001b[0m\u001b[1;33m(\u001b[0m\u001b[0mkwds_defaults\u001b[0m\u001b[1;33m)\u001b[0m\u001b[1;33m\u001b[0m\u001b[1;33m\u001b[0m\u001b[0m\n\u001b[0;32m    911\u001b[0m \u001b[1;33m\u001b[0m\u001b[0m\n\u001b[1;32m--> 912\u001b[1;33m     \u001b[1;32mreturn\u001b[0m \u001b[0m_read\u001b[0m\u001b[1;33m(\u001b[0m\u001b[0mfilepath_or_buffer\u001b[0m\u001b[1;33m,\u001b[0m \u001b[0mkwds\u001b[0m\u001b[1;33m)\u001b[0m\u001b[1;33m\u001b[0m\u001b[1;33m\u001b[0m\u001b[0m\n\u001b[0m\u001b[0;32m    913\u001b[0m \u001b[1;33m\u001b[0m\u001b[0m\n\u001b[0;32m    914\u001b[0m \u001b[1;33m\u001b[0m\u001b[0m\n",
      "\u001b[1;32mC:\\Program Files\\ArcGIS\\Pro\\bin\\Python\\envs\\arcgispro-py3\\lib\\site-packages\\pandas\\io\\parsers\\readers.py\u001b[0m in \u001b[0;36m_read\u001b[1;34m(filepath_or_buffer, kwds)\u001b[0m\n\u001b[0;32m    575\u001b[0m \u001b[1;33m\u001b[0m\u001b[0m\n\u001b[0;32m    576\u001b[0m     \u001b[1;31m# Create the parser.\u001b[0m\u001b[1;33m\u001b[0m\u001b[1;33m\u001b[0m\u001b[0m\n\u001b[1;32m--> 577\u001b[1;33m     \u001b[0mparser\u001b[0m \u001b[1;33m=\u001b[0m \u001b[0mTextFileReader\u001b[0m\u001b[1;33m(\u001b[0m\u001b[0mfilepath_or_buffer\u001b[0m\u001b[1;33m,\u001b[0m \u001b[1;33m**\u001b[0m\u001b[0mkwds\u001b[0m\u001b[1;33m)\u001b[0m\u001b[1;33m\u001b[0m\u001b[1;33m\u001b[0m\u001b[0m\n\u001b[0m\u001b[0;32m    578\u001b[0m \u001b[1;33m\u001b[0m\u001b[0m\n\u001b[0;32m    579\u001b[0m     \u001b[1;32mif\u001b[0m \u001b[0mchunksize\u001b[0m \u001b[1;32mor\u001b[0m \u001b[0miterator\u001b[0m\u001b[1;33m:\u001b[0m\u001b[1;33m\u001b[0m\u001b[1;33m\u001b[0m\u001b[0m\n",
      "\u001b[1;32mC:\\Program Files\\ArcGIS\\Pro\\bin\\Python\\envs\\arcgispro-py3\\lib\\site-packages\\pandas\\io\\parsers\\readers.py\u001b[0m in \u001b[0;36m__init__\u001b[1;34m(self, f, engine, **kwds)\u001b[0m\n\u001b[0;32m   1405\u001b[0m \u001b[1;33m\u001b[0m\u001b[0m\n\u001b[0;32m   1406\u001b[0m         \u001b[0mself\u001b[0m\u001b[1;33m.\u001b[0m\u001b[0mhandles\u001b[0m\u001b[1;33m:\u001b[0m \u001b[0mIOHandles\u001b[0m \u001b[1;33m|\u001b[0m \u001b[1;32mNone\u001b[0m \u001b[1;33m=\u001b[0m \u001b[1;32mNone\u001b[0m\u001b[1;33m\u001b[0m\u001b[1;33m\u001b[0m\u001b[0m\n\u001b[1;32m-> 1407\u001b[1;33m         \u001b[0mself\u001b[0m\u001b[1;33m.\u001b[0m\u001b[0m_engine\u001b[0m \u001b[1;33m=\u001b[0m \u001b[0mself\u001b[0m\u001b[1;33m.\u001b[0m\u001b[0m_make_engine\u001b[0m\u001b[1;33m(\u001b[0m\u001b[0mf\u001b[0m\u001b[1;33m,\u001b[0m \u001b[0mself\u001b[0m\u001b[1;33m.\u001b[0m\u001b[0mengine\u001b[0m\u001b[1;33m)\u001b[0m\u001b[1;33m\u001b[0m\u001b[1;33m\u001b[0m\u001b[0m\n\u001b[0m\u001b[0;32m   1408\u001b[0m \u001b[1;33m\u001b[0m\u001b[0m\n\u001b[0;32m   1409\u001b[0m     \u001b[1;32mdef\u001b[0m \u001b[0mclose\u001b[0m\u001b[1;33m(\u001b[0m\u001b[0mself\u001b[0m\u001b[1;33m)\u001b[0m \u001b[1;33m->\u001b[0m \u001b[1;32mNone\u001b[0m\u001b[1;33m:\u001b[0m\u001b[1;33m\u001b[0m\u001b[1;33m\u001b[0m\u001b[0m\n",
      "\u001b[1;32mC:\\Program Files\\ArcGIS\\Pro\\bin\\Python\\envs\\arcgispro-py3\\lib\\site-packages\\pandas\\io\\parsers\\readers.py\u001b[0m in \u001b[0;36m_make_engine\u001b[1;34m(self, f, engine)\u001b[0m\n\u001b[0;32m   1659\u001b[0m                 \u001b[1;32mif\u001b[0m \u001b[1;34m\"b\"\u001b[0m \u001b[1;32mnot\u001b[0m \u001b[1;32min\u001b[0m \u001b[0mmode\u001b[0m\u001b[1;33m:\u001b[0m\u001b[1;33m\u001b[0m\u001b[1;33m\u001b[0m\u001b[0m\n\u001b[0;32m   1660\u001b[0m                     \u001b[0mmode\u001b[0m \u001b[1;33m+=\u001b[0m \u001b[1;34m\"b\"\u001b[0m\u001b[1;33m\u001b[0m\u001b[1;33m\u001b[0m\u001b[0m\n\u001b[1;32m-> 1661\u001b[1;33m             self.handles = get_handle(\n\u001b[0m\u001b[0;32m   1662\u001b[0m                 \u001b[0mf\u001b[0m\u001b[1;33m,\u001b[0m\u001b[1;33m\u001b[0m\u001b[1;33m\u001b[0m\u001b[0m\n\u001b[0;32m   1663\u001b[0m                 \u001b[0mmode\u001b[0m\u001b[1;33m,\u001b[0m\u001b[1;33m\u001b[0m\u001b[1;33m\u001b[0m\u001b[0m\n",
      "\u001b[1;32mC:\\Program Files\\ArcGIS\\Pro\\bin\\Python\\envs\\arcgispro-py3\\lib\\site-packages\\pandas\\io\\common.py\u001b[0m in \u001b[0;36mget_handle\u001b[1;34m(path_or_buf, mode, encoding, compression, memory_map, is_text, errors, storage_options)\u001b[0m\n\u001b[0;32m    857\u001b[0m         \u001b[1;32mif\u001b[0m \u001b[0mioargs\u001b[0m\u001b[1;33m.\u001b[0m\u001b[0mencoding\u001b[0m \u001b[1;32mand\u001b[0m \u001b[1;34m\"b\"\u001b[0m \u001b[1;32mnot\u001b[0m \u001b[1;32min\u001b[0m \u001b[0mioargs\u001b[0m\u001b[1;33m.\u001b[0m\u001b[0mmode\u001b[0m\u001b[1;33m:\u001b[0m\u001b[1;33m\u001b[0m\u001b[1;33m\u001b[0m\u001b[0m\n\u001b[0;32m    858\u001b[0m             \u001b[1;31m# Encoding\u001b[0m\u001b[1;33m\u001b[0m\u001b[1;33m\u001b[0m\u001b[0m\n\u001b[1;32m--> 859\u001b[1;33m             handle = open(\n\u001b[0m\u001b[0;32m    860\u001b[0m                 \u001b[0mhandle\u001b[0m\u001b[1;33m,\u001b[0m\u001b[1;33m\u001b[0m\u001b[1;33m\u001b[0m\u001b[0m\n\u001b[0;32m    861\u001b[0m                 \u001b[0mioargs\u001b[0m\u001b[1;33m.\u001b[0m\u001b[0mmode\u001b[0m\u001b[1;33m,\u001b[0m\u001b[1;33m\u001b[0m\u001b[1;33m\u001b[0m\u001b[0m\n",
      "\u001b[1;31mFileNotFoundError\u001b[0m: [Errno 2] No such file or directory: 'diabetes.csv'"
     ]
    }
   ],
   "source": [
    "import pandas as pd\n",
    "import numpy as np\n",
    "import matplotlib.pyplot as plt\n",
    "\n",
    "df = pd.read_csv(\"diabetes.csv\")\n",
    "df_subset = df.set_index(\"id\")\n",
    "df_subset.head()"
   ]
  },
  {
   "cell_type": "code",
   "execution_count": null,
   "id": "78d1b6a2-9f70-4bc7-903a-28008935e126",
   "metadata": {
    "tags": []
   },
   "outputs": [],
   "source": [
    "# =================================================-\n",
    "#### Slide 4/32: Directory settings  ####\n",
    "\n",
    "# This is no longer needed after flattening the directory structure\n",
    "data_dir = Path.cwd() / \"data\"\n",
    "plot_dir = Path.cwd() / \"plots\"\n",
    "data_dir.mkdir(exist_ok=True)\n",
    "plot_dir.mkdir(exist_ok=True)"
   ]
  },
  {
   "cell_type": "code",
   "execution_count": null,
   "id": "5ef67608",
   "metadata": {
    "tags": []
   },
   "outputs": [],
   "source": [
    "# =================================================-\n",
    "#### Slide 5/32: Importing matplotlib  ####\n",
    "\n",
    "import matplotlib.pyplot as plt"
   ]
  },
  {
   "cell_type": "code",
   "execution_count": null,
   "id": "9b8555a7",
   "metadata": {
    "tags": []
   },
   "outputs": [],
   "source": [
    "# =================================================-\n",
    "#### Slide 6/32: Dataset for visualization  ####\n",
    "\n",
    "# This dataset is of type dataframe. Let's assign this dataset to a variable, so that we can manipulate it freely.\n",
    "df = pd.read_csv(\"diabetes.csv\")\n",
    "print(type(df))  # <- a Pandas DataFrame!\n",
    "print(len(df))  # <- returns the number of rows"
   ]
  },
  {
   "cell_type": "code",
   "execution_count": null,
   "id": "b01191fc",
   "metadata": {
    "tags": []
   },
   "outputs": [],
   "source": [
    "# =================================================-\n",
    "#### Slide 7/32: Subsetting data  ####\n",
    "\n",
    "df_subset = df.set_index(\"id\")\n",
    "df_subset.head()"
   ]
  },
  {
   "cell_type": "code",
   "execution_count": null,
   "id": "005553d6-7831-494c-a679-871dae80296b",
   "metadata": {
    "tags": []
   },
   "outputs": [],
   "source": [
    "# =================================================-\n",
    "#### Slide 11/32: Prepare data: group and summarize (cont'd)  ####\n",
    "\n",
    "grouping_col = df_subset.nunique().idxmin()\n",
    "df_grouped_mean = df_subset.drop(\"Pregnancies\", axis=1).groupby(grouping_col).mean()\n",
    "df_grouped_mean "
   ]
  },
  {
   "cell_type": "code",
   "execution_count": null,
   "id": "ee41206d",
   "metadata": {
    "tags": []
   },
   "outputs": [],
   "source": [
    "# =================================================-\n",
    "#### Slide 12/32: Prepare data: group and summarize (cont'd)  ####\n",
    "\n",
    "# Reset index of the dataset.\n",
    "df_grouped_mean = df_grouped_mean.reset_index()\n",
    "df_grouped_mean"
   ]
  },
  {
   "cell_type": "code",
   "execution_count": null,
   "id": "dba02be7-37cb-42cd-925a-e8139c71340c",
   "metadata": {},
   "outputs": [],
   "source": [
    "df_grouped_mean"
   ]
  },
  {
   "cell_type": "code",
   "execution_count": null,
   "id": "f43563d4",
   "metadata": {
    "tags": []
   },
   "outputs": [],
   "source": [
    "# =================================================-\n",
    "#### Slide 15/32: Wide to long format: melt (cont'd)  ####\n",
    "\n",
    "# Melt the wide data into long.\n",
    "df_grouped_mean_long = pd.melt(\n",
    "    df_grouped_mean,  # <- wide dataset\n",
    "    id_vars=grouping_col,  # <- identifying variable\n",
    "    var_name=\"metric\",  # <- contains col names of wide data\n",
    "    value_name=\"mean\",\n",
    ")  # <- contains values from above columns\n",
    "df_grouped_mean_long"
   ]
  },
  {
   "cell_type": "code",
   "execution_count": null,
   "id": "10033494",
   "metadata": {
    "tags": []
   },
   "outputs": [],
   "source": [
    "# =================================================-\n",
    "#### Slide 17/32: Long to wide format: pivot (cont'd)  ####\n",
    "\n",
    "# Melt the long data into wide.\n",
    "df_grouped_mean_wide = df_grouped_mean_long.pivot(\n",
    "    index=grouping_col,  # <- identifying variable\n",
    "    columns=\"metric\",  # <- col names of wide data\n",
    "    values=\"mean\",\n",
    ")  # <- values from above columns\n",
    "df_grouped_mean_wide"
   ]
  },
  {
   "cell_type": "code",
   "execution_count": null,
   "id": "39e713e7-9420-433d-81bf-bc358051005d",
   "metadata": {
    "tags": []
   },
   "outputs": [],
   "source": [
    "# =================================================-\n",
    "#### Slide 20/32: Univariate plots: histogram  ####\n",
    "\n",
    "plt.rcParams.update({\"font.size\": 15})\n",
    "plt.hist(df[\"DiabetesPedigreeFunction\"]);"
   ]
  },
  {
   "cell_type": "code",
   "execution_count": null,
   "id": "5611c80f",
   "metadata": {
    "tags": []
   },
   "outputs": [],
   "source": [
    "# =================================================-\n",
    "#### Slide 21/32: Univariate plots: histogram (cont'd)  ####\n",
    "\n",
    "df[\"DiabetesPedigreeFunction\"].plot.hist(\n",
    "    bins=20,\n",
    "    title=\"DiabetesPedigreeFunction distribution\",\n",
    "    xlabel=\"DiabetesPedigreeFunction\",\n",
    "    ylabel=\"Frequency\",\n",
    ");"
   ]
  },
  {
   "cell_type": "code",
   "execution_count": null,
   "id": "7ad964f0",
   "metadata": {
    "tags": []
   },
   "outputs": [],
   "source": [
    "# =================================================-\n",
    "#### Slide 22/32: Univariate plots: boxplot  ####\n",
    "\n",
    "plt.boxplot(df[\"DiabetesPedigreeFunction\"], vert=False);"
   ]
  },
  {
   "cell_type": "code",
   "execution_count": null,
   "id": "14330a96",
   "metadata": {
    "tags": []
   },
   "outputs": [],
   "source": [
    "# =================================================-\n",
    "#### Slide 23/32: Univariate plots: boxplot (cont'd)  ####\n",
    "\n",
    "df[\"DiabetesPedigreeFunction\"].plot.box(\n",
    "    title=\"DiabetesPedigreeFunction distribution\",\n",
    ");"
   ]
  },
  {
   "cell_type": "code",
   "execution_count": null,
   "id": "8f304252",
   "metadata": {
    "tags": []
   },
   "outputs": [],
   "source": [
    "# =================================================-\n",
    "#### Slide 25/32: Univariate plots: bar chart - cont'd  ####\n",
    "\n",
    "df_grouped_mean_long.head()"
   ]
  },
  {
   "cell_type": "code",
   "execution_count": null,
   "id": "10812047",
   "metadata": {},
   "outputs": [],
   "source": [
    "# =================================================-\n",
    "#### Slide 26/32: Univariate plots: bar chart - cont'd  ####\n",
    "\n",
    "df_true_means = df_grouped_mean_long.query(\"Outcome==0\")[[\"metric\", \"mean\"]]\n",
    "df_true_means"
   ]
  },
  {
   "cell_type": "code",
   "execution_count": null,
   "id": "f1f6a337-ae36-44d1-b85a-2edbffd83e93",
   "metadata": {},
   "outputs": [],
   "source": [
    "mask = df_grouped_mean_long[\"Outcome\"]==0\n",
    "df_true_means = df_grouped_mean_long[mask].drop(\"Outcome\", axis=1)\n",
    "df_true_means"
   ]
  },
  {
   "cell_type": "code",
   "execution_count": null,
   "id": "f671de04",
   "metadata": {},
   "outputs": [],
   "source": [
    "# =================================================-\n",
    "#### Slide 27/32: Univariate plots: bar chart - cont'd  ####\n",
    "\n",
    "bar_labels = df_true_means[\"metric\"]  # <- 1\n",
    "bar_heights = df_true_means[\"mean\"]  # <- 2\n",
    "num_bars = len(bar_heights)\n",
    "bar_positions = np.arange(num_bars)  # <- 3"
   ]
  },
  {
   "cell_type": "code",
   "execution_count": null,
   "id": "6ad058c4",
   "metadata": {},
   "outputs": [],
   "source": [
    "# =================================================-\n",
    "#### Slide 28/32: Univariate plots: bar chart - cont'd  ####\n",
    "\n",
    "plt.figure(figsize=(12, 9))\n",
    "plt.barh(bar_positions, bar_heights)\n",
    "plt.yticks(bar_positions, bar_labels)\n",
    "plt.xlabel(\"Mean values\")\n",
    "\n",
    "\n",
    "#######################################################\n",
    "####  CONGRATULATIONS ON COMPLETING THIS MODULE!   ####\n",
    "#######################################################"
   ]
  },
  {
   "cell_type": "code",
   "execution_count": null,
   "id": "5efb8577-3bab-48d6-87db-cf6409c55fdb",
   "metadata": {},
   "outputs": [],
   "source": [
    "import pandas as pd\n",
    "\n",
    "df = pd.read_csv(\"diabetes.csv\").drop(\"id\", axis=1)"
   ]
  },
  {
   "cell_type": "code",
   "execution_count": null,
   "id": "f8f7afb1-4673-41f0-aadd-106184b3bcab",
   "metadata": {},
   "outputs": [],
   "source": [
    "ax = df.mean().sort_values().plot.barh(\n",
    "    figsize=(9, 6),\n",
    "    xlabel=\"Mean values\",\n",
    "    title=\"Columns and their means\",\n",
    ");\n",
    "for i in ax.containers:\n",
    "    ax.bar_label(i, fmt=\" %.1f\")\n",
    "ax.spines[\"top\"].set_visible(False)\n",
    "ax.spines[\"right\"].set_visible(False)"
   ]
  },
  {
   "cell_type": "code",
   "execution_count": null,
   "id": "d41a04ea-6b1a-4a19-aa59-88d55375ce13",
   "metadata": {},
   "outputs": [],
   "source": [
    "means = df.drop([\"Outcome\", \"DiabetesPedigreeFunction\"], axis=1).mean().sort_values()\n",
    "units = [\" pregnancies\", \" mm\", r\" kg/m$^2$\", \" years\", \" mm Hg\", \" pM\", \" mM\"]\n",
    "labs = [f\" {v:.2f}\" + u for v, u in zip(means, units)]\n",
    "ax = means.plot.barh(\n",
    "    title=\"Average Diabetes Patient Measurements\", xlabel=\"Mean values\"\n",
    ")\n",
    "for i in ax.containers:\n",
    "    ax.bar_label(i, labels=labs)\n",
    "ax.spines[\"top\"].set_visible(False)\n",
    "ax.spines[\"right\"].set_visible(False)"
   ]
  },
  {
   "cell_type": "code",
   "execution_count": null,
   "id": "67e95730",
   "metadata": {},
   "outputs": [],
   "source": [
    "#######################################################\n",
    "#######################################################\n",
    "############    COPYRIGHT - DATA SOCIETY   ############\n",
    "#######################################################\n",
    "#######################################################\n",
    "\n",
    "## Intro To Visualization In Python: Static Plots - 2 ##\n",
    "\n",
    "## NOTE: To run individual pieces of code, select the line of code and\n",
    "##       press ctrl + enter for PCs or command + enter for Macs"
   ]
  },
  {
   "cell_type": "code",
   "execution_count": null,
   "id": "6a7d499e",
   "metadata": {},
   "outputs": [],
   "source": [
    "# =================================================-\n",
    "#### Slide 13/32: Bivariate plots: scatterplot  ####\n",
    "\n",
    "plt.scatter(df[\"DiabetesPedigreeFunction\"], df[\"Glucose\"]);"
   ]
  },
  {
   "cell_type": "code",
   "execution_count": null,
   "id": "acbe589c-72e1-4f1a-a622-031728a2df27",
   "metadata": {},
   "outputs": [],
   "source": [
    "df.plot.scatter(\n",
    "    x=\"DiabetesPedigreeFunction\",\n",
    "    y=\"Glucose\",\n",
    "    marker=\"D\",\n",
    "    title=\"Glucose versus DiabetesPedigreeFunction\",\n",
    "    c=\"darkorange\",\n",
    ");"
   ]
  },
  {
   "cell_type": "code",
   "execution_count": null,
   "id": "48aab708",
   "metadata": {},
   "outputs": [],
   "source": [
    "# =================================================-\n",
    "#### Slide 14/32: Bivariate plots: scatterplot - cont'd  ####\n",
    "\n",
    "plt.scatter(\n",
    "    df_subset[\"DiabetesPedigreeFunction\"], df_subset[\"Glucose\"], marker=\"D\"\n",
    ")  # <- set marker type to diamond\n",
    "plt.xlabel(\"DiabetesPedigreeFunction\")\n",
    "plt.ylabel(\"Glucose\")\n",
    "plt.title(\"DiabetesPedigreeFunction Glucose distribution\");"
   ]
  },
  {
   "cell_type": "code",
   "execution_count": null,
   "id": "65704796",
   "metadata": {},
   "outputs": [],
   "source": [
    "# =================================================-\n",
    "#### Slide 17/32: Customize colors - cont'd  ####\n",
    "\n",
    "plt.hist(df_subset[\"DiabetesPedigreeFunction\"], facecolor=\"goldenrod\")  # <- set color\n",
    "plt.xlabel(\"DiabetesPedigreeFunction\")\n",
    "plt.ylabel(\"Frequency\")\n",
    "plt.title(\"DiabetesPedigreeFunction distribution\")\n",
    "plt.show()"
   ]
  },
  {
   "cell_type": "code",
   "execution_count": null,
   "id": "b202e4b5",
   "metadata": {},
   "outputs": [],
   "source": [
    "# =================================================-\n",
    "#### Slide 18/32: Customize colors - cont'd  ####\n",
    "\n",
    "plt.barh(bar_positions, bar_heights, color=\"orchid\")\n",
    "plt.yticks(bar_positions, bar_labels)\n",
    "plt.xlabel(\"Mean values\")\n",
    "plt.title(\"Column Means\");"
   ]
  },
  {
   "cell_type": "code",
   "execution_count": null,
   "id": "d5793199",
   "metadata": {},
   "outputs": [],
   "source": [
    "# =================================================-\n",
    "#### Slide 19/32: Customize color: scatterplot  ####\n",
    "\n",
    "plt.scatter(\n",
    "    df_subset[\"DiabetesPedigreeFunction\"], df_subset[\"Glucose\"], c=\"darkorange\"\n",
    ")  # <- set marker type to diamond\n",
    "plt.xlabel(\"DiabetesPedigreeFunction\")\n",
    "plt.ylabel(\"Glucose\")\n",
    "plt.title(\"DiabetesPedigreeFunction Glucose distribution\")\n",
    "plt.show()"
   ]
  },
  {
   "cell_type": "code",
   "execution_count": null,
   "id": "098baed9-9180-450d-aa82-60528c65c376",
   "metadata": {},
   "outputs": [],
   "source": [
    "df[\"color\"] = df[\"Outcome\"].map({0: \"darkseagreen\", 1: \"palevioletred\"})\n",
    "df.plot.scatter(\n",
    "    x=\"DiabetesPedigreeFunction\",\n",
    "    y=\"Glucose\",\n",
    "    marker=\"D\",\n",
    "    title=\"Glucose versus DiabetesPedigreeFunction\",\n",
    "    c=\"color\",\n",
    "    alpha=.6,\n",
    "    label=\"Diabetic\",\n",
    ");"
   ]
  },
  {
   "cell_type": "code",
   "execution_count": null,
   "id": "e8b41165",
   "metadata": {},
   "outputs": [],
   "source": [
    "# =================================================-\n",
    "#### Slide 21/32: Customize color: map colors - cont'd  ####\n",
    "\n",
    "color = df_subset[\"Outcome\"].map({0: \"darkseagreen\", 1: \"palevioletred\"})\n",
    "plt.scatter(df_subset[\"DiabetesPedigreeFunction\"], df_subset[\"Glucose\"], c=color)\n",
    "plt.xlabel(\"DiabetesPedigreeFunction\")\n",
    "plt.ylabel(\"Glucose\")\n",
    "plt.title(\"DiabetesPedigreeFunction Glucose distribution\")\n",
    "plt.show()"
   ]
  },
  {
   "cell_type": "code",
   "execution_count": null,
   "id": "ccf6920b",
   "metadata": {},
   "outputs": [],
   "source": [
    "# =================================================-\n",
    "#### Slide 23/32: Customize color: opacity (cont'd)  ####\n",
    "\n",
    "plt.scatter(\n",
    "    df_subset[\"DiabetesPedigreeFunction\"], df_subset[\"Glucose\"], c=color, alpha=0.3\n",
    ")\n",
    "plt.xlabel(\"DiabetesPedigreeFunction\")\n",
    "plt.ylabel(\"Glucose\")\n",
    "plt.show()"
   ]
  },
  {
   "cell_type": "code",
   "execution_count": null,
   "id": "1cac2a45",
   "metadata": {},
   "outputs": [],
   "source": [
    "# =================================================-\n",
    "#### Slide 24/32: Customize plot settings: available styles  ####\n",
    "\n",
    "print(plt.style.available)\n",
    "# plt.style.use(\"ggplot\")"
   ]
  },
  {
   "cell_type": "code",
   "execution_count": null,
   "id": "5debccbb",
   "metadata": {},
   "outputs": [],
   "source": [
    "# =================================================-\n",
    "#### Slide 25/32: Customize plot settings: test ggplot style  ####\n",
    "\n",
    "plt.scatter(\n",
    "    df_subset[\"DiabetesPedigreeFunction\"], df_subset[\"Glucose\"], c=color, alpha=0.3\n",
    ")\n",
    "plt.xlabel(\"DiabetesPedigreeFunction\")\n",
    "plt.ylabel(\"Glucose\")\n",
    "plt.title(\"DiabetesPedigreeFunction Glucose distribution\")\n",
    "plt.show()"
   ]
  },
  {
   "cell_type": "code",
   "execution_count": null,
   "id": "69d4273a",
   "metadata": {},
   "outputs": [],
   "source": [
    "# =================================================  -\n",
    "#### Slide 27/32: Customize plot settings: labels  ####\n",
    "\n",
    "plt.rcParams[\"axes.labelsize\"] = 20\n",
    "plt.rcParams[\"axes.labelcolor\"] = \"red\"\n",
    "plt.rcParams[\"axes.titlesize\"] = 25\n",
    "plt.scatter(\n",
    "    df_subset[\"DiabetesPedigreeFunction\"], df_subset[\"Glucose\"], c=color, alpha=0.3\n",
    ")\n",
    "plt.xlabel(\"DiabetesPedigreeFunction\")\n",
    "plt.ylabel(\"Glucose\")\n",
    "plt.title(\"DiabetesPedigreeFunction Glucose distribution\")\n",
    "plt.show()"
   ]
  },
  {
   "cell_type": "code",
   "execution_count": null,
   "id": "75a241a0",
   "metadata": {},
   "outputs": [],
   "source": [
    "# ================================================= -\n",
    "#### Slide 28/32: Customize plot settings: reset defaults  ####\n",
    "\n",
    "plt.rcdefaults()\n",
    "plt.scatter(\n",
    "    df_subset[\"DiabetesPedigreeFunction\"], df_subset[\"Glucose\"], c=color, alpha=0.3\n",
    ")\n",
    "plt.xlabel(\"DiabetesPedigreeFunction\")\n",
    "plt.ylabel(\"Glucose\")\n",
    "plt.title(\"DiabetesPedigreeFunction Glucose distribution\")\n",
    "plt.show()\n",
    "\n",
    "\n",
    "#######################################################\n",
    "####  CONGRATULATIONS ON COMPLETING THIS MODULE!   ####\n",
    "#######################################################"
   ]
  },
  {
   "cell_type": "code",
   "execution_count": null,
   "id": "07b69d1f",
   "metadata": {},
   "outputs": [],
   "source": [
    "#######################################################\n",
    "#######################################################\n",
    "############    COPYRIGHT - DATA SOCIETY   ############\n",
    "#######################################################\n",
    "#######################################################\n",
    "\n",
    "## Intro To Visualization In Python: Static Plots - 3 ##\n",
    "\n",
    "## NOTE: To run individual pieces of code, select the line of code and\n",
    "##       press ctrl + enter for PCs or command + enter for Macs"
   ]
  },
  {
   "cell_type": "code",
   "execution_count": null,
   "id": "edb6a1f5",
   "metadata": {},
   "outputs": [],
   "source": [
    "# =================================================-\n",
    "#### Slide 4/29: Complex univariate plots: violin plots  ####\n",
    "\n",
    "plt.violinplot(df_subset[\"DiabetesPedigreeFunction\"], showmeans=False, showmedians=True)\n",
    "plt.show()"
   ]
  },
  {
   "cell_type": "code",
   "execution_count": null,
   "id": "93e767dd",
   "metadata": {},
   "outputs": [],
   "source": [
    "# =================================================-\n",
    "#### Slide 6/29: Univariate plots: violin plot (cont'd)  ####\n",
    "\n",
    "plt.violinplot(\n",
    "    df_subset[\"DiabetesPedigreeFunction\"], vert=False, showmeans=False, showmedians=True\n",
    ")\n",
    "plt.xlabel(\"DiabetesPedigreeFunction\")\n",
    "plt.title(\"DiabetesPedigreeFunction distribution\")\n",
    "plt.show()"
   ]
  },
  {
   "cell_type": "code",
   "execution_count": null,
   "id": "a67c7fd5",
   "metadata": {},
   "outputs": [],
   "source": [
    "# =================================================-\n",
    "#### Slide 8/29: Compound visualizations: grids  ####\n",
    "\n",
    "# Create a 2 x 2 figure and axes grid.\n",
    "fig, axes = plt.subplots(2, 2)\n",
    "plt.show()"
   ]
  },
  {
   "cell_type": "code",
   "execution_count": null,
   "id": "ed1fbc2a",
   "metadata": {},
   "outputs": [],
   "source": [
    "# =================================================-\n",
    "#### Slide 9/29: Compound visualizations: axes  ####\n",
    "\n",
    "print(axes)"
   ]
  },
  {
   "cell_type": "code",
   "execution_count": null,
   "id": "8a0c5ef1",
   "metadata": {},
   "outputs": [],
   "source": [
    "# =================================================-\n",
    "#### Slide 10/29: Compound visualizations: axes (cont'd)  ####\n",
    "\n",
    "plt.clf()\n",
    "plt.figure(figsize=(8, 8))\n",
    "plt.rcParams.update({\"font.size\": 14})\n",
    "fig, axes = plt.subplots(2, 2)\n",
    "\n",
    "axes[0, 0].hist(\n",
    "    df_subset[\"DiabetesPedigreeFunction\"], facecolor=\"goldenrod\"\n",
    ")  # <- set color"
   ]
  },
  {
   "cell_type": "code",
   "execution_count": null,
   "id": "026bdc21",
   "metadata": {},
   "outputs": [],
   "source": [
    "# =================================================-\n",
    "#### Slide 11/29: Compound visualizations: axes (cont'd)  ####\n",
    "\n",
    "plt.figure(figsize=(12, 8))\n",
    "fig, axes = plt.subplots(2, 2)\n",
    "color_dict = {int(\"0\"): \"darkseagreen\", int(\"1\"): \"palevioletred\"}\n",
    "color = df_subset[\"Outcome\"].map(color_dict)\n",
    "axes[0, 0].hist(\n",
    "    df_subset[\"DiabetesPedigreeFunction\"], facecolor=\"goldenrod\"\n",
    ")  # <- set color\n",
    "axes[0, 1].boxplot(df_subset[\"DiabetesPedigreeFunction\"])\n",
    "axes[1, 0].scatter(\n",
    "    df_subset[\"DiabetesPedigreeFunction\"], df_subset[\"Glucose\"], c=color, alpha=0.3\n",
    ")\n",
    "axes[1, 1].bar(bar_positions, bar_heights, color=\"salmon\")\n",
    "plt.tight_layout()\n",
    "plt.show()"
   ]
  },
  {
   "cell_type": "code",
   "execution_count": null,
   "id": "37aaae50",
   "metadata": {},
   "outputs": [],
   "source": [
    "# =================================================-\n",
    "#### Slide 12/29: Compound visualizations: labeling axes  ####\n",
    "\n",
    "# Histogram.\n",
    "axes[0, 0].set_ylabel(\"DiabetesPedigreeFunction distribution\")\n",
    "axes[0, 0].set_xlabel(\"DiabetesPedigreeFunction\")\n",
    "\n",
    "# Boxplot.\n",
    "axes[0, 1].set_ylabel(\"DiabetesPedigreeFunction\")\n",
    "\n",
    "# Scatterplot.\n",
    "axes[1, 0].set_xlabel(\"DiabetesPedigreeFunction\")\n",
    "axes[1, 0].set_ylabel(\"Glucose\")\n",
    "\n",
    "# Mean values of categories of variable means.\n",
    "axes[1, 1].set_ylabel(\"Mean values\")"
   ]
  },
  {
   "cell_type": "code",
   "execution_count": null,
   "id": "8688208d",
   "metadata": {},
   "outputs": [],
   "source": [
    "# =================================================-\n",
    "#### Slide 13/29: Compound visualizations: labeling ticks   ####\n",
    "\n",
    "# No labels for ticks for boxplot.\n",
    "axes[0, 1].xaxis.set_ticklabels([\"\"])\n",
    "# Tick positions set to bar positions in bar chart.\n",
    "axes[1, 1].xaxis.set_ticks(bar_positions)\n",
    "\n",
    "# Tick labels set to bar categories in bar chart.\n",
    "axes[1, 1].xaxis.set_ticklabels(bar_labels, rotation=18)"
   ]
  },
  {
   "cell_type": "code",
   "execution_count": null,
   "id": "abfaac29",
   "metadata": {},
   "outputs": [],
   "source": [
    "# =================================================-\n",
    "#### Slide 14/29: Compound visualizations: figure adjustments  ####\n",
    "\n",
    "plt.rcParams[\"axes.labelsize\"] = 20\n",
    "plt.rcParams[\"figure.titlesize\"] = 25\n",
    "fig.set_size_inches(18, 7.5)\n",
    "fig.suptitle(\"Data Summary\")"
   ]
  },
  {
   "cell_type": "code",
   "execution_count": null,
   "id": "cf05f3da",
   "metadata": {},
   "outputs": [],
   "source": [
    "# =================================================-\n",
    "#### Slide 15/29: Compound visualizations: putting it all together  ####\n",
    "\n",
    "plt.clf()\n",
    "plt.figure(figsize=(8, 8))\n",
    "plt.rcParams.update({\"font.size\": 14})\n",
    "fig, axes = plt.subplots(2, 2)\n",
    "\n",
    "color_dict = {int(\"0\"): \"darkseagreen\", int(\"1\"): \"palevioletred\"}\n",
    "color = df_subset[\"Outcome\"].map(color_dict)\n",
    "axes[0, 0].hist(df_subset[\"SkinThickness\"], facecolor=\"goldenrod\")  # <- set color\n",
    "axes[0, 1].boxplot(df_subset[\"SkinThickness\"])\n",
    "axes[1, 0].scatter(df_subset[\"SkinThickness\"], df_subset[\"Glucose\"], c=color, alpha=0.3)\n",
    "axes[1, 1].bar(bar_positions, bar_heights, color=\"salmon\")\n",
    "\n",
    "# Histogram.\n",
    "axes[0, 0].set_ylabel(\"SkinThickness distribution\")\n",
    "axes[0, 0].set_xlabel(\"SkinThickness\")\n",
    "\n",
    "# Boxplot.\n",
    "axes[0, 1].set_ylabel(\"SkinThickness\")\n",
    "\n",
    "# Scatterplot.\n",
    "axes[1, 0].set_xlabel(\"SkinThickness\")\n",
    "axes[1, 0].set_ylabel(\"Glucose\")\n",
    "\n",
    "# Mean values of categories of variable means.\n",
    "axes[1, 1].set_ylabel(\"Mean values\")\n",
    "\n",
    "# No labels for ticks for boxplot.\n",
    "axes[0, 1].xaxis.set_ticklabels([\"\"])\n",
    "\n",
    "# Tick positions set to bar positions in bar chart.\n",
    "axes[1, 1].xaxis.set_ticks(bar_positions)\n",
    "\n",
    "# Tick labels set to bar categories in bar chart.\n",
    "axes[1, 1].xaxis.set_ticklabels(bar_labels, rotation=18)\n",
    "\n",
    "plt.rcParams[\"axes.labelsize\"] = 20\n",
    "plt.rcParams[\"figure.titlesize\"] = 25\n",
    "fig.set_size_inches(18, 7.5)\n",
    "fig.suptitle(\"Data Summary\")\n",
    "plt.tight_layout()\n",
    "plt.show()"
   ]
  },
  {
   "cell_type": "code",
   "execution_count": null,
   "id": "6fd0094e-b1ee-4a9b-bee8-e50478163e37",
   "metadata": {},
   "outputs": [],
   "source": [
    "fig, axes = plt.subplots(2, 2)\n",
    "\n",
    "color = df[\"Outcome\"].map(\n",
    "    {\n",
    "        0: \"darkseagreen\",\n",
    "        1: \"palevioletred\",\n",
    "    }\n",
    ")\n",
    "axes[0, 0].hist(df_subset[\"SkinThickness\"], color=\"goldenrod\")\n",
    "axes[0, 1].boxplot(df[\"SkinThickness\"], vert=False)\n",
    "axes[1, 0].scatter(df[\"SkinThickness\"], df[\"Glucose\"], c=color, alpha=0.3)\n",
    "axes[1, 1].barh(bar_positions, bar_heights, color=\"salmon\")\n",
    "\n",
    "# Histogram.\n",
    "axes[0, 0].set_title(\"SkinThickness distribution\")\n",
    "axes[0, 0].set_ylabel(\"Frequency\")\n",
    "axes[0, 0].set_xlabel(\"SkinThickness\")\n",
    "\n",
    "# Boxplot.\n",
    "axes[0, 1].set_title(\"SkinThickness distribution\")\n",
    "axes[0, 1].set_xlabel(\"SkinThickness\")\n",
    "\n",
    "# Scatterplot.\n",
    "axes[1, 0].set_xlabel(\"SkinThickness\")\n",
    "axes[1, 0].set_ylabel(\"Glucose\")\n",
    "axes[1, 0].set_title(\"Glucose versus Skin Thickness\")\n",
    "\n",
    "# Mean values of categories of variable means.\n",
    "axes[1, 1].set_xlabel(\"Mean values\")\n",
    "axes[1, 1].set_title(\"Mean values for all variables\")\n",
    "\n",
    "# No labels for ticks for boxplot.\n",
    "axes[0, 1].yaxis.set_ticklabels([\"\"])\n",
    "\n",
    "# Tick positions set to bar positions in bar chart.\n",
    "axes[1, 1].yaxis.set_ticks(bar_positions)\n",
    "\n",
    "# Tick labels set to bar categories in bar chart.\n",
    "axes[1, 1].yaxis.set_ticklabels(bar_labels)\n",
    "\n",
    "plt.rcParams[\"axes.labelsize\"] = 20\n",
    "plt.rcParams[\"figure.titlesize\"] = 25\n",
    "fig.set_size_inches(18, 7.5)\n",
    "fig.suptitle(\"Data Summary\")\n",
    "plt.tight_layout()"
   ]
  },
  {
   "cell_type": "code",
   "execution_count": null,
   "id": "056e6dc1",
   "metadata": {},
   "outputs": [],
   "source": [
    "# =================================================-\n",
    "#### Slide 18/29: Compound visualizations: layered plots (cont'd)  ####\n",
    "\n",
    "plt.clf()  # <- clear plotting area\n",
    "fig, axes = plt.subplots()  # <- create a new figure and axes objects for plotting\n",
    "\n",
    "grouping_col_levels = list(df_grouped_mean_long[grouping_col].unique())\n",
    "grouping_category_1 = grouping_col_levels[0]\n",
    "grouping_category_2 = grouping_col_levels[1]\n",
    "\n",
    "for key, value in color_dict.items():\n",
    "    query = str(\"Outcome\") + \"==\" + str(key)\n",
    "    sc_col_1 = df_subset.query(query)[\"DiabetesPedigreeFunction\"]\n",
    "    sc_col_2 = df_subset.query(query)[\"Glucose\"]\n",
    "\n",
    "    if key == int(grouping_category_1):\n",
    "        Flag = \"Category 1\"\n",
    "    else:\n",
    "        Flag = \"Category 2\"\n",
    "\n",
    "    axes.scatter(sc_col_1, sc_col_2, c=value, label=Flag, alpha=0.3)\n",
    "axes.legend()  # <- add a legend that would automatically get labels and colors from layers!\n",
    "\n",
    "plt.show()"
   ]
  },
  {
   "cell_type": "code",
   "execution_count": null,
   "id": "c7409f55-1b58-4e71-8a3a-0d47881f94ab",
   "metadata": {},
   "outputs": [],
   "source": [
    "color = df[\"Outcome\"].map({0: \"#ff08\", 1: \"#f0f8\"})\n",
    "df.plot.scatter(\n",
    "    x=\"DiabetesPedigreeFunction\",\n",
    "    y=\"Glucose\",\n",
    "    title=\"Glucose versus DiabetesPedigreeFunction\",\n",
    "    c=color,\n",
    "    s=32,\n",
    "    edgecolors=\"#0008\",\n",
    "    label=\"Diabetic\",\n",
    ");"
   ]
  },
  {
   "cell_type": "code",
   "execution_count": null,
   "id": "cb9623c2",
   "metadata": {},
   "outputs": [],
   "source": [
    "# =================================================-\n",
    "#### Slide 20/29: Compound visualizations: layered plots (cont'd)  ####\n",
    "\n",
    "# We already have `'Outcome'` = `'0'` mean data.\n",
    "print(df_true_means.head())\n",
    "# Let's get the `'Outcome'` = `'1'` mean data.\n",
    "query = str(\"Outcome\") + \"==\" + str(\"1\")\n",
    "df_false_means = df_grouped_mean_long.query(query)[[\"metric\", \"mean\"]]\n",
    "print(df_false_means)"
   ]
  },
  {
   "cell_type": "code",
   "execution_count": null,
   "id": "ff9bab94",
   "metadata": {},
   "outputs": [],
   "source": [
    "# =================================================-\n",
    "#### Slide 21/29: Compound visualizations: layered plots (cont'd)  ####\n",
    "\n",
    "# Mean values for `'Outcome'` = `'0'` data.\n",
    "category_1_bar_heights = df_true_means[\"mean\"]\n",
    "# Mean values for `'Outcome'` = `'1'` data.\n",
    "category_2_bar_heights = df_false_means[\"mean\"]\n",
    "# Labels of bars, their width, and positions are shared for both categories.\n",
    "bar_labels = df_false_means[\"metric\"]\n",
    "num_bars = len(bar_labels)\n",
    "bar_positions = np.arange(num_bars)\n",
    "width = 0.35"
   ]
  },
  {
   "cell_type": "code",
   "execution_count": null,
   "id": "4d97e92f",
   "metadata": {},
   "outputs": [],
   "source": [
    "# =================================================-\n",
    "#### Slide 22/29: Compound visualizations: layered plots (cont'd)  ####\n",
    "\n",
    "# Clear the plotting area for the new plot.\n",
    "plt.clf()\n",
    "# Create the figure and axes objects.\n",
    "fig, axes = plt.subplots()\n",
    "category_1_bar_chart = axes.bar(\n",
    "    bar_positions,  # <- set bar positions\n",
    "    category_1_bar_heights,  # <- set bar heights\n",
    "    width,  # <- set width of the bars\n",
    "    color=color_dict[0],\n",
    ")  # <- set color corresponding to '0' in dictionary\n",
    "category_2_bar_chart = axes.bar(\n",
    "    bar_positions + width,  # <- set bar positions\n",
    "    category_2_bar_heights,  # <- set bar heights\n",
    "    width,  # <- set width of the bars\n",
    "    color=color_dict[1],\n",
    ")  # <- set color corresponding to '1' in dictionary"
   ]
  },
  {
   "cell_type": "code",
   "execution_count": null,
   "id": "4be443c2",
   "metadata": {},
   "outputs": [],
   "source": [
    "# =================================================-\n",
    "#### Slide 23/29: Compound visualizations: layered plots (cont'd)  ####\n",
    "\n",
    "# Add text for labels, title and axes ticks.\n",
    "axes.set_ylabel(\"Mean values\")\n",
    "axes.set_title(\"Data metrics summary\")\n",
    "axes.set_xticks(bar_positions + width / 2)\n",
    "axes.set_xticklabels(bar_labels)"
   ]
  },
  {
   "cell_type": "code",
   "execution_count": null,
   "id": "9938c21b",
   "metadata": {},
   "outputs": [],
   "source": [
    "# =================================================-\n",
    "#### Slide 24/29: Compound visualizations: layered plots (cont'd)  ####\n",
    "\n",
    "# Clear the plotting area for the new plot.\n",
    "plt.clf()\n",
    "# Create the figure and axes objects.\n",
    "fig, axes = plt.subplots()\n",
    "\n",
    "category_1_bar_chart = axes.bar(\n",
    "    bar_positions,  # <- set bar positions\n",
    "    category_1_bar_heights,  # <- set bar heights\n",
    "    width,  # <- set width of the bars\n",
    "    color=color_dict[0],\n",
    ")  # <- set color corresponding to '0' in dictionary\n",
    "category_2_bar_chart = axes.bar(\n",
    "    bar_positions + width,  # <- set bar positions\n",
    "    category_2_bar_heights,  # <- set bar heights\n",
    "    width,  # <- set width of the bars\n",
    "    color=color_dict[1],\n",
    ")  # <- set color corresponding to '1' in dictionary\n",
    "\n",
    "# Add text for labels, title and axes ticks.\n",
    "axes.set_ylabel(\"Mean values\")\n",
    "axes.set_title(\"Data metrics summary\")\n",
    "axes.set_xticks(bar_positions + width / 2)\n",
    "axes.set_xticklabels(bar_labels)\n",
    "\n",
    "# Add a legend for each chart and corresponding labels.\n",
    "axes.legend(\n",
    "    (category_1_bar_chart, category_2_bar_chart),\n",
    "    (f\"{grouping_category_1}\", f\"{grouping_category_2}\"),\n",
    ")\n",
    "fig.set_size_inches(12, 4)\n",
    "plt.show()"
   ]
  },
  {
   "cell_type": "code",
   "execution_count": null,
   "id": "72a369a2-bec8-49e0-a6a9-ba6a66c4e8c2",
   "metadata": {},
   "outputs": [],
   "source": [
    "pd.read_csv(\"diabetes.csv\").drop(\"id\", axis=1).groupby(\"Outcome\").mean().T.sort_values(0).plot.barh();"
   ]
  },
  {
   "cell_type": "code",
   "execution_count": null,
   "id": "200b8cd5",
   "metadata": {
    "tags": []
   },
   "outputs": [],
   "source": [
    "# =================================================-\n",
    "#### Slide 28/29: Exercise  ####\n",
    "\n",
    "\n",
    "#######################################################\n",
    "####  CONGRATULATIONS ON COMPLETING THIS MODULE!   ####\n",
    "#######################################################"
   ]
  }
 ],
 "metadata": {
  "kernelspec": {
   "display_name": "Python 3 (ipykernel)",
   "language": "python",
   "name": "python3"
  },
  "language": "python",
  "language_info": {
   "codemirror_mode": {
    "name": "ipython",
    "version": 3
   },
   "file_extension": ".py",
   "mimetype": "text/x-python",
   "name": "python",
   "nbconvert_exporter": "python",
   "pygments_lexer": "ipython3",
   "version": "3.9.18"
  }
 },
 "nbformat": 4,
 "nbformat_minor": 5
}
